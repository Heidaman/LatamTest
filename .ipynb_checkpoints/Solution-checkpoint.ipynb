{
 "cells": [
  {
   "cell_type": "code",
   "execution_count": 109,
   "metadata": {},
   "outputs": [],
   "source": [
    "import pandas as pd\n",
    "import numpy as np\n",
    "import os\n",
    "import datetime\n",
    "import glob\n",
    "import missingno as msno\n",
    "import matplotlib.pyplot as plt\n",
    "import warnings\n",
    "\n",
    "from sklearn.impute import SimpleImputer\n",
    "from datetime import date, datetime, time\n",
    "from os.path import dirname, exists\n",
    "from tqdm import tqdm\n",
    "from pandas.api.types import is_numeric_dtype  \n",
    "tqdm.pandas()\n",
    "\n",
    "warnings.filterwarnings(\"ignore\")  # Suppress all warnings\n",
    "plt.style.use('ggplot')\n",
    "pd.set_option('display.max_rows', 1000000)"
   ]
  },
  {
   "cell_type": "code",
   "execution_count": 110,
   "metadata": {},
   "outputs": [
    {
     "data": {
      "text/html": [
       "<div>\n",
       "<style scoped>\n",
       "    .dataframe tbody tr th:only-of-type {\n",
       "        vertical-align: middle;\n",
       "    }\n",
       "\n",
       "    .dataframe tbody tr th {\n",
       "        vertical-align: top;\n",
       "    }\n",
       "\n",
       "    .dataframe thead th {\n",
       "        text-align: right;\n",
       "    }\n",
       "</style>\n",
       "<table border=\"1\" class=\"dataframe\">\n",
       "  <thead>\n",
       "    <tr style=\"text-align: right;\">\n",
       "      <th></th>\n",
       "      <th>Fecha-I</th>\n",
       "      <th>Vlo-I</th>\n",
       "      <th>Ori-I</th>\n",
       "      <th>Des-I</th>\n",
       "      <th>Emp-I</th>\n",
       "      <th>Fecha-O</th>\n",
       "      <th>Vlo-O</th>\n",
       "      <th>Ori-O</th>\n",
       "      <th>Des-O</th>\n",
       "      <th>Emp-O</th>\n",
       "      <th>DIA</th>\n",
       "      <th>MES</th>\n",
       "      <th>AÑO</th>\n",
       "      <th>DIANOM</th>\n",
       "      <th>TIPOVUELO</th>\n",
       "      <th>OPERA</th>\n",
       "      <th>SIGLAORI</th>\n",
       "      <th>SIGLADES</th>\n",
       "    </tr>\n",
       "  </thead>\n",
       "  <tbody>\n",
       "    <tr>\n",
       "      <th>0</th>\n",
       "      <td>2017-01-01 23:30:00</td>\n",
       "      <td>226</td>\n",
       "      <td>SCEL</td>\n",
       "      <td>KMIA</td>\n",
       "      <td>AAL</td>\n",
       "      <td>2017-01-01 23:33:00</td>\n",
       "      <td>226</td>\n",
       "      <td>SCEL</td>\n",
       "      <td>KMIA</td>\n",
       "      <td>AAL</td>\n",
       "      <td>1</td>\n",
       "      <td>1</td>\n",
       "      <td>2017</td>\n",
       "      <td>Domingo</td>\n",
       "      <td>I</td>\n",
       "      <td>American Airlines</td>\n",
       "      <td>Santiago</td>\n",
       "      <td>Miami</td>\n",
       "    </tr>\n",
       "    <tr>\n",
       "      <th>1</th>\n",
       "      <td>2017-01-02 23:30:00</td>\n",
       "      <td>226</td>\n",
       "      <td>SCEL</td>\n",
       "      <td>KMIA</td>\n",
       "      <td>AAL</td>\n",
       "      <td>2017-01-02 23:39:00</td>\n",
       "      <td>226</td>\n",
       "      <td>SCEL</td>\n",
       "      <td>KMIA</td>\n",
       "      <td>AAL</td>\n",
       "      <td>2</td>\n",
       "      <td>1</td>\n",
       "      <td>2017</td>\n",
       "      <td>Lunes</td>\n",
       "      <td>I</td>\n",
       "      <td>American Airlines</td>\n",
       "      <td>Santiago</td>\n",
       "      <td>Miami</td>\n",
       "    </tr>\n",
       "    <tr>\n",
       "      <th>2</th>\n",
       "      <td>2017-01-03 23:30:00</td>\n",
       "      <td>226</td>\n",
       "      <td>SCEL</td>\n",
       "      <td>KMIA</td>\n",
       "      <td>AAL</td>\n",
       "      <td>2017-01-03 23:39:00</td>\n",
       "      <td>226</td>\n",
       "      <td>SCEL</td>\n",
       "      <td>KMIA</td>\n",
       "      <td>AAL</td>\n",
       "      <td>3</td>\n",
       "      <td>1</td>\n",
       "      <td>2017</td>\n",
       "      <td>Martes</td>\n",
       "      <td>I</td>\n",
       "      <td>American Airlines</td>\n",
       "      <td>Santiago</td>\n",
       "      <td>Miami</td>\n",
       "    </tr>\n",
       "    <tr>\n",
       "      <th>3</th>\n",
       "      <td>2017-01-04 23:30:00</td>\n",
       "      <td>226</td>\n",
       "      <td>SCEL</td>\n",
       "      <td>KMIA</td>\n",
       "      <td>AAL</td>\n",
       "      <td>2017-01-04 23:33:00</td>\n",
       "      <td>226</td>\n",
       "      <td>SCEL</td>\n",
       "      <td>KMIA</td>\n",
       "      <td>AAL</td>\n",
       "      <td>4</td>\n",
       "      <td>1</td>\n",
       "      <td>2017</td>\n",
       "      <td>Miercoles</td>\n",
       "      <td>I</td>\n",
       "      <td>American Airlines</td>\n",
       "      <td>Santiago</td>\n",
       "      <td>Miami</td>\n",
       "    </tr>\n",
       "    <tr>\n",
       "      <th>4</th>\n",
       "      <td>2017-01-05 23:30:00</td>\n",
       "      <td>226</td>\n",
       "      <td>SCEL</td>\n",
       "      <td>KMIA</td>\n",
       "      <td>AAL</td>\n",
       "      <td>2017-01-05 23:28:00</td>\n",
       "      <td>226</td>\n",
       "      <td>SCEL</td>\n",
       "      <td>KMIA</td>\n",
       "      <td>AAL</td>\n",
       "      <td>5</td>\n",
       "      <td>1</td>\n",
       "      <td>2017</td>\n",
       "      <td>Jueves</td>\n",
       "      <td>I</td>\n",
       "      <td>American Airlines</td>\n",
       "      <td>Santiago</td>\n",
       "      <td>Miami</td>\n",
       "    </tr>\n",
       "  </tbody>\n",
       "</table>\n",
       "</div>"
      ],
      "text/plain": [
       "              Fecha-I Vlo-I Ori-I Des-I Emp-I             Fecha-O Vlo-O Ori-O  \\\n",
       "0 2017-01-01 23:30:00   226  SCEL  KMIA   AAL 2017-01-01 23:33:00   226  SCEL   \n",
       "1 2017-01-02 23:30:00   226  SCEL  KMIA   AAL 2017-01-02 23:39:00   226  SCEL   \n",
       "2 2017-01-03 23:30:00   226  SCEL  KMIA   AAL 2017-01-03 23:39:00   226  SCEL   \n",
       "3 2017-01-04 23:30:00   226  SCEL  KMIA   AAL 2017-01-04 23:33:00   226  SCEL   \n",
       "4 2017-01-05 23:30:00   226  SCEL  KMIA   AAL 2017-01-05 23:28:00   226  SCEL   \n",
       "\n",
       "  Des-O Emp-O  DIA  MES   AÑO     DIANOM TIPOVUELO              OPERA  \\\n",
       "0  KMIA   AAL    1    1  2017    Domingo         I  American Airlines   \n",
       "1  KMIA   AAL    2    1  2017      Lunes         I  American Airlines   \n",
       "2  KMIA   AAL    3    1  2017     Martes         I  American Airlines   \n",
       "3  KMIA   AAL    4    1  2017  Miercoles         I  American Airlines   \n",
       "4  KMIA   AAL    5    1  2017     Jueves         I  American Airlines   \n",
       "\n",
       "   SIGLAORI SIGLADES  \n",
       "0  Santiago    Miami  \n",
       "1  Santiago    Miami  \n",
       "2  Santiago    Miami  \n",
       "3  Santiago    Miami  \n",
       "4  Santiago    Miami  "
      ]
     },
     "execution_count": 110,
     "metadata": {},
     "output_type": "execute_result"
    }
   ],
   "source": [
    "if exists('dataset_SCL.csv'):\n",
    "    dataset = pd.read_csv('dataset_SCL.csv', sep = \",\", decimal = \".\", na_values = \"NA\", encoding='utf8', low_memory = False)\n",
    "\n",
    "dataset['Fecha-I'] = pd.to_datetime(dataset['Fecha-I'])\n",
    "dataset['Fecha-O'] = pd.to_datetime(dataset['Fecha-O'])\n",
    "dataset.head()"
   ]
  },
  {
   "cell_type": "code",
   "execution_count": 136,
   "metadata": {},
   "outputs": [
    {
     "name": "stdout",
     "output_type": "stream",
     "text": [
      " \n",
      "Dataset shape: \n",
      "\n",
      " (68205, 18)\n",
      " \n",
      "Count total NaN at each column in the dataset : \n",
      "\n",
      " Fecha-I      0\n",
      "Vlo-I        0\n",
      "Ori-I        0\n",
      "Des-I        0\n",
      "Emp-I        0\n",
      "Fecha-O      0\n",
      "Vlo-O        0\n",
      "Ori-O        0\n",
      "Des-O        0\n",
      "Emp-O        0\n",
      "DIA          0\n",
      "MES          0\n",
      "AÑO          0\n",
      "DIANOM       0\n",
      "TIPOVUELO    0\n",
      "OPERA        0\n",
      "SIGLAORI     0\n",
      "SIGLADES     0\n",
      "dtype: int64\n"
     ]
    }
   ],
   "source": [
    "print(\" \\nDataset shape: \\n\\n\", \n",
    "      dataset.shape)\n",
    "print(\" \\nCount total NaN at each column in the dataset : \\n\\n\", \n",
    "      dataset.isnull().sum()) "
   ]
  },
  {
   "cell_type": "markdown",
   "metadata": {},
   "source": [
    "**Limpieza de Datos**"
   ]
  },
  {
   "cell_type": "code",
   "execution_count": 112,
   "metadata": {},
   "outputs": [
    {
     "name": "stdout",
     "output_type": "stream",
     "text": [
      "Información Dataset\n",
      "<class 'pandas.core.frame.DataFrame'>\n",
      "RangeIndex: 68206 entries, 0 to 68205\n",
      "Data columns (total 18 columns):\n",
      " #   Column     Non-Null Count  Dtype         \n",
      "---  ------     --------------  -----         \n",
      " 0   Fecha-I    68206 non-null  datetime64[ns]\n",
      " 1   Vlo-I      68206 non-null  object        \n",
      " 2   Ori-I      68206 non-null  object        \n",
      " 3   Des-I      68206 non-null  object        \n",
      " 4   Emp-I      68206 non-null  object        \n",
      " 5   Fecha-O    68206 non-null  datetime64[ns]\n",
      " 6   Vlo-O      68205 non-null  object        \n",
      " 7   Ori-O      68206 non-null  object        \n",
      " 8   Des-O      68206 non-null  object        \n",
      " 9   Emp-O      68206 non-null  object        \n",
      " 10  DIA        68206 non-null  int64         \n",
      " 11  MES        68206 non-null  int64         \n",
      " 12  AÑO        68206 non-null  int64         \n",
      " 13  DIANOM     68206 non-null  object        \n",
      " 14  TIPOVUELO  68206 non-null  object        \n",
      " 15  OPERA      68206 non-null  object        \n",
      " 16  SIGLAORI   68206 non-null  object        \n",
      " 17  SIGLADES   68206 non-null  object        \n",
      "dtypes: datetime64[ns](2), int64(3), object(13)\n",
      "memory usage: 9.4+ MB\n"
     ]
    }
   ],
   "source": [
    "print(\"Información Dataset\")\n",
    "dataset.info()"
   ]
  },
  {
   "cell_type": "code",
   "execution_count": 113,
   "metadata": {},
   "outputs": [
    {
     "data": {
      "image/png": "[encoded data removed]",
      "text/plain": [
       "<Figure size 1800x720 with 2 Axes>"
      ]
     },
     "metadata": {},
     "output_type": "display_data"
    }
   ],
   "source": [
    "if dataset.isnull().values.any():\n",
    "    msno.matrix(dataset)"
   ]
  },
  {
   "cell_type": "code",
   "execution_count": 114,
   "metadata": {},
   "outputs": [
    {
     "name": "stdout",
     "output_type": "stream",
     "text": [
      "<class 'pandas.core.frame.DataFrame'>\n",
      "Int64Index: 68205 entries, 0 to 68205\n",
      "Data columns (total 18 columns):\n",
      " #   Column     Non-Null Count  Dtype         \n",
      "---  ------     --------------  -----         \n",
      " 0   Fecha-I    68205 non-null  datetime64[ns]\n",
      " 1   Vlo-I      68205 non-null  object        \n",
      " 2   Ori-I      68205 non-null  object        \n",
      " 3   Des-I      68205 non-null  object        \n",
      " 4   Emp-I      68205 non-null  object        \n",
      " 5   Fecha-O    68205 non-null  datetime64[ns]\n",
      " 6   Vlo-O      68205 non-null  object        \n",
      " 7   Ori-O      68205 non-null  object        \n",
      " 8   Des-O      68205 non-null  object        \n",
      " 9   Emp-O      68205 non-null  object        \n",
      " 10  DIA        68205 non-null  int64         \n",
      " 11  MES        68205 non-null  int64         \n",
      " 12  AÑO        68205 non-null  int64         \n",
      " 13  DIANOM     68205 non-null  object        \n",
      " 14  TIPOVUELO  68205 non-null  object        \n",
      " 15  OPERA      68205 non-null  object        \n",
      " 16  SIGLAORI   68205 non-null  object        \n",
      " 17  SIGLADES   68205 non-null  object        \n",
      "dtypes: datetime64[ns](2), int64(3), object(13)\n",
      "memory usage: 9.9+ MB\n"
     ]
    }
   ],
   "source": [
    "dataset.dropna(inplace=True)\n",
    "dataset.info()"
   ]
  },
  {
   "cell_type": "code",
   "execution_count": 115,
   "metadata": {},
   "outputs": [
    {
     "data": {
      "text/plain": [
       "array([[<AxesSubplot:title={'center':'Fecha-I'}>,\n",
       "        <AxesSubplot:title={'center':'Fecha-O'}>],\n",
       "       [<AxesSubplot:title={'center':'DIA'}>,\n",
       "        <AxesSubplot:title={'center':'MES'}>],\n",
       "       [<AxesSubplot:title={'center':'AÑO'}>, <AxesSubplot:>]],\n",
       "      dtype=object)"
      ]
     },
     "execution_count": 115,
     "metadata": {},
     "output_type": "execute_result"
    },
    {
     "data": {
      "image/png": "[encoded data removed]",
      "text/plain": [
       "<Figure size 1440x1080 with 6 Axes>"
      ]
     },
     "metadata": {},
     "output_type": "display_data"
    }
   ],
   "source": [
    "fig = plt.figure(figsize = (20,15))\n",
    "ax = fig.gca()\n",
    "dataset.hist(ax = ax, alpha=0.7)"
   ]
  },
  {
   "cell_type": "code",
   "execution_count": 116,
   "metadata": {},
   "outputs": [
    {
     "data": {
      "text/plain": [
       "<AxesSubplot:>"
      ]
     },
     "execution_count": 116,
     "metadata": {},
     "output_type": "execute_result"
    },
    {
     "data": {
      "image/png": "[encoded data removed]",
      "text/plain": [
       "<Figure size 1080x720 with 1 Axes>"
      ]
     },
     "metadata": {},
     "output_type": "display_data"
    }
   ],
   "source": [
    "dataset.plot.box(figsize = (15, 10), rot = 90, grid = True)"
   ]
  },
  {
   "cell_type": "code",
   "execution_count": 117,
   "metadata": {},
   "outputs": [
    {
     "data": {
      "image/png": "[encoded data removed]",
      "text/plain": [
       "<Figure size 1368x1080 with 2 Axes>"
      ]
     },
     "metadata": {},
     "output_type": "display_data"
    }
   ],
   "source": [
    "f = plt.figure(figsize=(19, 15))\n",
    "plt.matshow(dataset.corr(), fignum=f.number)\n",
    "plt.rcParams.update({'font.size': 14})\n",
    "for (i, j), z in np.ndenumerate(dataset.corr()):\n",
    "    plt.text(j, i, '{:0.2f}'.format(z), ha='center', va='center',\n",
    "            bbox=dict(boxstyle='round', facecolor='white', edgecolor='0.3'))\n",
    "plt.xticks(range(dataset.select_dtypes(['number']).shape[1]), dataset.select_dtypes(['number']).columns, fontsize=14, rotation=45)\n",
    "plt.yticks(range(dataset.select_dtypes(['number']).shape[1]), dataset.select_dtypes(['number']).columns, fontsize=14)\n",
    "cb = plt.colorbar()\n",
    "cb.ax.tick_params(labelsize=14)\n",
    "plt.title('Correlation Matrix', fontsize=16);"
   ]
  },
  {
   "cell_type": "markdown",
   "metadata": {},
   "source": [
    "**Generando archivo synthetic_features.csv**"
   ]
  },
  {
   "cell_type": "code",
   "execution_count": 118,
   "metadata": {},
   "outputs": [],
   "source": [
    "def temporadas(row):\n",
    "    datetime_obj = datetime.strptime(str(row), '%Y-%m-%d %H:%M:%S')\n",
    "    my_date = datetime_obj.date()\n",
    "    \n",
    "    boundarydict = {\"Si\": [(date(my_date.year, 12, 15), date(my_date.year, 12, 31)),\n",
    "                           (date(my_date.year, 1, 1), date(my_date.year, 3, 3)),\n",
    "                           (date(my_date.year, 7, 15), date(my_date.year, 7, 31)),\n",
    "                           (date(my_date.year, 9, 11), date(my_date.year, 9, 30))],\n",
    "                    \"No\": [(date(my_date.year, 3, 4), date(my_date.year, 7, 14)),\n",
    "                           (date(my_date.year, 8, 1), date(my_date.year, 9, 10)),\n",
    "                           (date(my_date.year, 12, 1), date(my_date.year, 12, 14))]}\n",
    "    \n",
    "    for retval, boundaries in boundarydict.items():\n",
    "        if any(a <= my_date <= b for a, b in boundaries):\n",
    "            return retval"
   ]
  },
  {
   "cell_type": "code",
   "execution_count": 119,
   "metadata": {},
   "outputs": [],
   "source": [
    "def periodo(row):\n",
    "    datetime_obj = datetime.strptime(str(row), '%Y-%m-%d %H:%M:%S')\n",
    "    my_time = datetime_obj.time()\n",
    "    \n",
    "    boundarydict = {\"mañana\": [(time(5, 0), time(11, 59))],\n",
    "                    \"tarde\": [(time(12, 0), time(18, 59))],\n",
    "                    \"noche\": [(time(19, 0), time(23, 59)),\n",
    "                              (time(0, 0), time(4, 59))]}\n",
    "    \n",
    "    for retval, boundaries in boundarydict.items():\n",
    "        if any(a <= my_time <= b for a, b in boundaries):\n",
    "            return retval"
   ]
  },
  {
   "cell_type": "code",
   "execution_count": 120,
   "metadata": {},
   "outputs": [],
   "source": [
    "synthetic_features = pd.DataFrame(columns=['temporada_alta', 'dif_min', 'atraso_15', 'periodo_dia'], \n",
    "                                  index = dataset.index)"
   ]
  },
  {
   "cell_type": "code",
   "execution_count": 121,
   "metadata": {},
   "outputs": [
    {
     "name": "stderr",
     "output_type": "stream",
     "text": [
      "100%|█████████████████████████████████████████████████████████████████████████| 68205/68205 [00:01<00:00, 39538.55it/s]\n"
     ]
    }
   ],
   "source": [
    "synthetic_features['temporada_alta'] = dataset['Fecha-I'].progress_apply(temporadas)"
   ]
  },
  {
   "cell_type": "code",
   "execution_count": 122,
   "metadata": {},
   "outputs": [],
   "source": [
    "synthetic_features['dif_min'] = dataset['Fecha-O'] - dataset['Fecha-I']\n",
    "synthetic_features['dif_min'] = synthetic_features['dif_min'] / np.timedelta64(1,'m')\n",
    "synthetic_features['dif_min'] = synthetic_features['dif_min'].abs()"
   ]
  },
  {
   "cell_type": "code",
   "execution_count": 123,
   "metadata": {},
   "outputs": [
    {
     "name": "stderr",
     "output_type": "stream",
     "text": [
      "100%|████████████████████████████████████████████████████████████████████████| 68205/68205 [00:00<00:00, 749581.43it/s]\n"
     ]
    }
   ],
   "source": [
    "synthetic_features['atraso_15'] = synthetic_features['dif_min'].progress_apply(lambda x: 1 if x > 15.0 else 0)"
   ]
  },
  {
   "cell_type": "code",
   "execution_count": 124,
   "metadata": {},
   "outputs": [
    {
     "name": "stderr",
     "output_type": "stream",
     "text": [
      "100%|█████████████████████████████████████████████████████████████████████████| 68205/68205 [00:01<00:00, 42495.43it/s]\n"
     ]
    }
   ],
   "source": [
    "synthetic_features['periodo_dia'] = dataset['Fecha-I'].progress_apply(periodo)"
   ]
  },
  {
   "cell_type": "code",
   "execution_count": 125,
   "metadata": {},
   "outputs": [],
   "source": [
    "synthetic_features.to_csv(\"synthetic_features.csv\", sep=',', decimal = \".\", encoding='utf-8', index=False)"
   ]
  },
  {
   "cell_type": "code",
   "execution_count": 126,
   "metadata": {},
   "outputs": [
    {
     "data": {
      "text/html": [
       "<div>\n",
       "<style scoped>\n",
       "    .dataframe tbody tr th:only-of-type {\n",
       "        vertical-align: middle;\n",
       "    }\n",
       "\n",
       "    .dataframe tbody tr th {\n",
       "        vertical-align: top;\n",
       "    }\n",
       "\n",
       "    .dataframe thead th {\n",
       "        text-align: right;\n",
       "    }\n",
       "</style>\n",
       "<table border=\"1\" class=\"dataframe\">\n",
       "  <thead>\n",
       "    <tr style=\"text-align: right;\">\n",
       "      <th></th>\n",
       "      <th>Fecha-I</th>\n",
       "      <th>Vlo-I</th>\n",
       "      <th>Ori-I</th>\n",
       "      <th>Des-I</th>\n",
       "      <th>Emp-I</th>\n",
       "      <th>Fecha-O</th>\n",
       "      <th>Vlo-O</th>\n",
       "      <th>Ori-O</th>\n",
       "      <th>Des-O</th>\n",
       "      <th>Emp-O</th>\n",
       "      <th>DIA</th>\n",
       "      <th>MES</th>\n",
       "      <th>AÑO</th>\n",
       "      <th>DIANOM</th>\n",
       "      <th>TIPOVUELO</th>\n",
       "      <th>OPERA</th>\n",
       "      <th>SIGLAORI</th>\n",
       "      <th>SIGLADES</th>\n",
       "    </tr>\n",
       "  </thead>\n",
       "  <tbody>\n",
       "    <tr>\n",
       "      <th>0</th>\n",
       "      <td>2017-01-01 23:30:00</td>\n",
       "      <td>226</td>\n",
       "      <td>SCEL</td>\n",
       "      <td>KMIA</td>\n",
       "      <td>AAL</td>\n",
       "      <td>2017-01-01 23:33:00</td>\n",
       "      <td>226</td>\n",
       "      <td>SCEL</td>\n",
       "      <td>KMIA</td>\n",
       "      <td>AAL</td>\n",
       "      <td>1</td>\n",
       "      <td>1</td>\n",
       "      <td>2017</td>\n",
       "      <td>Domingo</td>\n",
       "      <td>I</td>\n",
       "      <td>American Airlines</td>\n",
       "      <td>Santiago</td>\n",
       "      <td>Miami</td>\n",
       "    </tr>\n",
       "    <tr>\n",
       "      <th>1</th>\n",
       "      <td>2017-01-02 23:30:00</td>\n",
       "      <td>226</td>\n",
       "      <td>SCEL</td>\n",
       "      <td>KMIA</td>\n",
       "      <td>AAL</td>\n",
       "      <td>2017-01-02 23:39:00</td>\n",
       "      <td>226</td>\n",
       "      <td>SCEL</td>\n",
       "      <td>KMIA</td>\n",
       "      <td>AAL</td>\n",
       "      <td>2</td>\n",
       "      <td>1</td>\n",
       "      <td>2017</td>\n",
       "      <td>Lunes</td>\n",
       "      <td>I</td>\n",
       "      <td>American Airlines</td>\n",
       "      <td>Santiago</td>\n",
       "      <td>Miami</td>\n",
       "    </tr>\n",
       "  </tbody>\n",
       "</table>\n",
       "</div>"
      ],
      "text/plain": [
       "              Fecha-I Vlo-I Ori-I Des-I Emp-I             Fecha-O Vlo-O Ori-O  \\\n",
       "0 2017-01-01 23:30:00   226  SCEL  KMIA   AAL 2017-01-01 23:33:00   226  SCEL   \n",
       "1 2017-01-02 23:30:00   226  SCEL  KMIA   AAL 2017-01-02 23:39:00   226  SCEL   \n",
       "\n",
       "  Des-O Emp-O  DIA  MES   AÑO   DIANOM TIPOVUELO              OPERA  SIGLAORI  \\\n",
       "0  KMIA   AAL    1    1  2017  Domingo         I  American Airlines  Santiago   \n",
       "1  KMIA   AAL    2    1  2017    Lunes         I  American Airlines  Santiago   \n",
       "\n",
       "  SIGLADES  \n",
       "0    Miami  \n",
       "1    Miami  "
      ]
     },
     "execution_count": 126,
     "metadata": {},
     "output_type": "execute_result"
    }
   ],
   "source": [
    "dataset.head(2)"
   ]
  },
  {
   "cell_type": "markdown",
   "metadata": {},
   "source": [
    "**Tasa de atraso**"
   ]
  },
  {
   "cell_type": "markdown",
   "metadata": {},
   "source": [
    "A continuación observamos la tasas de retraso usando como variables de medición distintos atributos del conjunto de datos. Se puede ver que....\n",
    "\n",
    "Con base a esto esperamos que las variables de... sean las de mayor aporte al momento de predecir retrasos."
   ]
  },
  {
   "cell_type": "code",
   "execution_count": 127,
   "metadata": {},
   "outputs": [],
   "source": [
    "atraso_synthetic_features = synthetic_features.loc[synthetic_features['atraso_15'] == 1]\n",
    "atraso_dataset = dataset.loc[atraso_synthetic_features.index, :]"
   ]
  },
  {
   "cell_type": "code",
   "execution_count": 148,
   "metadata": {},
   "outputs": [],
   "source": [
    "def tasadeatraso(df, col, filas, decimales):\n",
    "    print(round(df.groupby([col])[col].count()/filas, decimales))"
   ]
  },
  {
   "cell_type": "code",
   "execution_count": 149,
   "metadata": {},
   "outputs": [
    {
     "name": "stdout",
     "output_type": "stream",
     "text": [
      "tasa de atraso/destino origen\n",
      "Des-I\n",
      "CYYZ    0.001\n",
      "EGLL    0.000\n",
      "EGYP    0.000\n",
      "KATL    0.000\n",
      "KDFW    0.000\n",
      "KIAH    0.000\n",
      "KJFK    0.001\n",
      "KLAX    0.001\n",
      "KMCO    0.000\n",
      "KMIA    0.003\n",
      "LEMD    0.002\n",
      "LFPG    0.000\n",
      "LIRF    0.000\n",
      "MDPC    0.000\n",
      "MMMX    0.001\n",
      "MMUN    0.000\n",
      "MPTO    0.002\n",
      "NZAA    0.002\n",
      "SAAR    0.001\n",
      "SABE    0.012\n",
      "SACO    0.005\n",
      "SAEZ    0.012\n",
      "SAME    0.006\n",
      "SANT    0.000\n",
      "SANU    0.000\n",
      "SAWH    0.000\n",
      "SAZN    0.000\n",
      "SAZS    0.000\n",
      "SBFL    0.000\n",
      "SBGL    0.006\n",
      "SBGR    0.013\n",
      "SCAR    0.005\n",
      "SCAT    0.004\n",
      "SCBA    0.002\n",
      "SCCF    0.009\n",
      "SCCI    0.005\n",
      "SCDA    0.009\n",
      "SCFA    0.012\n",
      "SCIE    0.009\n",
      "SCIP    0.001\n",
      "SCJO    0.001\n",
      "SCNT    0.000\n",
      "SCPQ    0.000\n",
      "SCQP    0.006\n",
      "SCSE    0.006\n",
      "SCTE    0.011\n",
      "SCVD    0.002\n",
      "SEGU    0.001\n",
      "SEQM    0.000\n",
      "SEQU    0.000\n",
      "SGAS    0.001\n",
      "SKBO    0.006\n",
      "SLCB    0.000\n",
      "SLLP    0.000\n",
      "SLVR    0.000\n",
      "SPJC    0.018\n",
      "SULS    0.000\n",
      "SUMU    0.003\n",
      "YMML    0.000\n",
      "YSSY    0.002\n",
      "Name: Des-I, dtype: float64\n"
     ]
    }
   ],
   "source": [
    "print(\"tasa de atraso/destino origen\")\n",
    "tasadeatraso(df = atraso_dataset, col = 'Des-I', \n",
    "             filas = dataset.shape[0], decimales = 3)"
   ]
  },
  {
   "cell_type": "code",
   "execution_count": 150,
   "metadata": {},
   "outputs": [
    {
     "name": "stdout",
     "output_type": "stream",
     "text": [
      "tasa de atraso/destino operación\n",
      "Des-O\n",
      "CYYZ    0.001\n",
      "EGLL    0.000\n",
      "EGYP    0.000\n",
      "KATL    0.000\n",
      "KDFW    0.000\n",
      "KIAH    0.000\n",
      "KJFK    0.001\n",
      "KLAX    0.001\n",
      "KMCO    0.000\n",
      "KMIA    0.003\n",
      "LEMD    0.002\n",
      "LFPG    0.000\n",
      "LIRF    0.000\n",
      "MDPC    0.000\n",
      "MMMX    0.001\n",
      "MMUN    0.000\n",
      "MPTO    0.002\n",
      "NZAA    0.002\n",
      "SAAR    0.001\n",
      "SABE    0.012\n",
      "SACO    0.005\n",
      "SAEZ    0.012\n",
      "SAME    0.006\n",
      "SANT    0.000\n",
      "SANU    0.000\n",
      "SAWH    0.000\n",
      "SAZN    0.000\n",
      "SAZS    0.000\n",
      "SBFL    0.000\n",
      "SBGL    0.006\n",
      "SBGR    0.013\n",
      "SCAR    0.005\n",
      "SCAT    0.004\n",
      "SCBA    0.002\n",
      "SCCF    0.009\n",
      "SCCI    0.005\n",
      "SCDA    0.009\n",
      "SCFA    0.012\n",
      "SCIE    0.009\n",
      "SCIP    0.001\n",
      "SCJO    0.001\n",
      "SCNT    0.000\n",
      "SCPQ    0.000\n",
      "SCQP    0.006\n",
      "SCSE    0.006\n",
      "SCTE    0.011\n",
      "SCVD    0.002\n",
      "SEGU    0.001\n",
      "SEQM    0.000\n",
      "SGAS    0.001\n",
      "SKBO    0.006\n",
      "SLCB    0.000\n",
      "SLLP    0.000\n",
      "SLVR    0.000\n",
      "SPJC    0.018\n",
      "SULS    0.000\n",
      "SUMU    0.003\n",
      "YMML    0.000\n",
      "YSSY    0.002\n",
      "Name: Des-O, dtype: float64\n"
     ]
    }
   ],
   "source": [
    "print(\"tasa de atraso/destino operación\")\n",
    "tasadeatraso(df = atraso_dataset, col = 'Des-O', \n",
    "             filas = dataset.shape[0], decimales = 3)"
   ]
  },
  {
   "cell_type": "code",
   "execution_count": 151,
   "metadata": {},
   "outputs": [
    {
     "name": "stdout",
     "output_type": "stream",
     "text": [
      "tasa de atraso/aerolinea\n",
      "OPERA\n",
      "Aerolineas Argentinas       0.007\n",
      "Aeromexico                  0.000\n",
      "Air Canada                  0.004\n",
      "Air France                  0.000\n",
      "Alitalia                    0.000\n",
      "American Airlines           0.001\n",
      "Austral                     0.000\n",
      "Avianca                     0.004\n",
      "British Airways             0.000\n",
      "Copa Air                    0.002\n",
      "Delta Air                   0.000\n",
      "Gol Trans                   0.004\n",
      "Grupo LATAM                 0.107\n",
      "Iberia                      0.001\n",
      "JetSmart SPA                0.003\n",
      "K.L.M.                      0.000\n",
      "Lacsa                       0.000\n",
      "Latin American Wings        0.010\n",
      "Oceanair Linhas Aereas      0.001\n",
      "Plus Ultra Lineas Aereas    0.000\n",
      "Qantas Airways              0.002\n",
      "Sky Airline                 0.037\n",
      "United Airlines             0.000\n",
      "Name: OPERA, dtype: float64\n"
     ]
    }
   ],
   "source": [
    "print(\"tasa de atraso/aerolinea\")\n",
    "tasadeatraso(df = atraso_dataset, col = 'OPERA', \n",
    "             filas = dataset.shape[0], decimales = 3)"
   ]
  },
  {
   "cell_type": "code",
   "execution_count": 152,
   "metadata": {},
   "outputs": [
    {
     "name": "stdout",
     "output_type": "stream",
     "text": [
      "tasa de atraso/mes\n",
      "MES\n",
      "1     0.014\n",
      "2     0.012\n",
      "3     0.009\n",
      "4     0.009\n",
      "5     0.012\n",
      "6     0.012\n",
      "7     0.026\n",
      "8     0.015\n",
      "9     0.014\n",
      "10    0.020\n",
      "11    0.018\n",
      "12    0.024\n",
      "Name: MES, dtype: float64\n"
     ]
    }
   ],
   "source": [
    "print(\"tasa de atraso/mes\")\n",
    "tasadeatraso(df = atraso_dataset, col = 'MES', \n",
    "             filas = dataset.shape[0], decimales = 3)"
   ]
  },
  {
   "cell_type": "code",
   "execution_count": 156,
   "metadata": {},
   "outputs": [
    {
     "name": "stdout",
     "output_type": "stream",
     "text": [
      "tasa de atraso/día\n",
      "DIANOM\n",
      "Domingo      0.023\n",
      "Jueves       0.030\n",
      "Lunes        0.030\n",
      "Martes       0.024\n",
      "Miercoles    0.024\n",
      "Sabado       0.020\n",
      "Viernes      0.034\n",
      "Name: DIANOM, dtype: float64\n"
     ]
    }
   ],
   "source": [
    "print(\"tasa de atraso/día\")\n",
    "tasadeatraso(df = atraso_dataset, col = 'DIANOM', \n",
    "             filas = dataset.shape[0], decimales = 3)"
   ]
  },
  {
   "cell_type": "code",
   "execution_count": 154,
   "metadata": {},
   "outputs": [
    {
     "name": "stdout",
     "output_type": "stream",
     "text": [
      "tasa de atraso/tipo de vuelo\n",
      "TIPOVUELO\n",
      "I    0.103\n",
      "N    0.082\n",
      "Name: TIPOVUELO, dtype: float64\n"
     ]
    }
   ],
   "source": [
    "print(\"tasa de atraso/tipo de vuelo\")\n",
    "tasadeatraso(df = atraso_dataset, col = 'TIPOVUELO', \n",
    "             filas = dataset.shape[0], decimales = 3)"
   ]
  },
  {
   "cell_type": "code",
   "execution_count": 155,
   "metadata": {},
   "outputs": [
    {
     "name": "stdout",
     "output_type": "stream",
     "text": [
      "tasa de atraso/temporada\n",
      "temporada_alta\n",
      "No    0.082\n",
      "Si    0.066\n",
      "Name: temporada_alta, dtype: float64\n"
     ]
    }
   ],
   "source": [
    "print(\"tasa de atraso/temporada\")\n",
    "tasadeatraso(df = atraso_synthetic_features, col = 'temporada_alta', \n",
    "             filas = synthetic_features.shape[0], decimales = 3)"
   ]
  },
  {
   "cell_type": "code",
   "execution_count": null,
   "metadata": {},
   "outputs": [],
   "source": []
  },
  {
   "cell_type": "markdown",
   "metadata": {},
   "source": [
    "**Generación Algoritmo de Predicción**"
   ]
  },
  {
   "cell_type": "markdown",
   "metadata": {},
   "source": [
    "Categorizamos las variables no numericas"
   ]
  },
  {
   "cell_type": "code",
   "execution_count": 99,
   "metadata": {},
   "outputs": [
    {
     "name": "stdout",
     "output_type": "stream",
     "text": [
      "Fecha-I      category\n",
      "Vlo-I        category\n",
      "Ori-I        category\n",
      "Des-I        category\n",
      "Emp-I        category\n",
      "Fecha-O      category\n",
      "Vlo-O        category\n",
      "Ori-O        category\n",
      "Des-O        category\n",
      "Emp-O        category\n",
      "DIA             int64\n",
      "MES             int64\n",
      "AÑO             int64\n",
      "DIANOM       category\n",
      "TIPOVUELO    category\n",
      "OPERA        category\n",
      "SIGLAORI     category\n",
      "SIGLADES     category\n",
      "dtype: object\n"
     ]
    }
   ],
   "source": [
    "def convert_cats(df):\n",
    "    cats = []\n",
    "    for col in df.columns:\n",
    "        if is_numeric_dtype(df[col]):\n",
    "            pass\n",
    "        else:\n",
    "            cats.append(col)\n",
    "            \n",
    "        for col in cats:\n",
    "            df[col] = df[col].astype('category')\n",
    "    return df\n",
    "dataset = convert_cats(dataset)\n",
    "print(dataset.dtypes)"
   ]
  },
  {
   "cell_type": "code",
   "execution_count": null,
   "metadata": {},
   "outputs": [],
   "source": [
    "dataset.drop('DIA', axis=1, inplace=True)\n",
    "dataset.drop('MES', axis=1, inplace=True)\n",
    "dataset.drop('AÑO', axis=1, inplace=True)"
   ]
  }
 ],
 "metadata": {
  "kernelspec": {
   "display_name": "Python 3",
   "language": "python",
   "name": "python3"
  },
  "language_info": {
   "codemirror_mode": {
    "name": "ipython",
    "version": 3
   },
   "file_extension": ".py",
   "mimetype": "text/x-python",
   "name": "python",
   "nbconvert_exporter": "python",
   "pygments_lexer": "ipython3",
   "version": "3.8.3"
  }
 },
 "nbformat": 4,
 "nbformat_minor": 4
}
